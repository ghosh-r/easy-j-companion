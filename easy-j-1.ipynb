{
 "cells": [
  {
   "cell_type": "markdown",
   "metadata": {},
   "source": [
    "# Intro"
   ]
  },
  {
   "cell_type": "markdown",
   "metadata": {},
   "source": [
    "## Operators"
   ]
  },
  {
   "cell_type": "code",
   "execution_count": 1,
   "metadata": {},
   "outputs": [
    {
     "name": "stdout",
     "output_type": "stream",
     "text": [
      "7\n"
     ]
    }
   ],
   "source": [
    "3 + 4"
   ]
  },
  {
   "cell_type": "code",
   "execution_count": 2,
   "metadata": {},
   "outputs": [
    {
     "name": "stdout",
     "output_type": "stream",
     "text": [
      "100\n"
     ]
    }
   ],
   "source": [
    "5 * 20"
   ]
  },
  {
   "cell_type": "markdown",
   "metadata": {},
   "source": [
    "`+`, `-` are functions and are called *'verbs'*."
   ]
  },
  {
   "cell_type": "code",
   "execution_count": 3,
   "metadata": {},
   "outputs": [
    {
     "name": "stdout",
     "output_type": "stream",
     "text": [
      "7\n"
     ]
    }
   ],
   "source": [
    "4+6%2"
   ]
  },
  {
   "cell_type": "markdown",
   "metadata": {},
   "source": [
    "Weirdly enough, `%` is division."
   ]
  },
  {
   "cell_type": "markdown",
   "metadata": {},
   "source": [
    "Expressions are read from left to right. No list of operator precedence?"
   ]
  },
  {
   "cell_type": "code",
   "execution_count": 4,
   "metadata": {},
   "outputs": [
    {
     "name": "stdout",
     "output_type": "stream",
     "text": [
      "8\n"
     ]
    }
   ],
   "source": [
    "2 ^ 3"
   ]
  },
  {
   "cell_type": "code",
   "execution_count": 5,
   "metadata": {},
   "outputs": [
    {
     "name": "stdout",
     "output_type": "stream",
     "text": [
      "1.66667\n"
     ]
    }
   ],
   "source": [
    "1+2%3"
   ]
  },
  {
   "cell_type": "code",
   "execution_count": 6,
   "metadata": {},
   "outputs": [
    {
     "name": "stdout",
     "output_type": "stream",
     "text": [
      "1\n"
     ]
    }
   ],
   "source": [
    "(1+2)%3"
   ]
  },
  {
   "cell_type": "code",
   "execution_count": 7,
   "metadata": {},
   "outputs": [
    {
     "name": "stdout",
     "output_type": "stream",
     "text": [
      "_5\n"
     ]
    }
   ],
   "source": [
    "3 - 8"
   ]
  },
  {
   "cell_type": "code",
   "execution_count": 8,
   "metadata": {},
   "outputs": [
    {
     "name": "stdout",
     "output_type": "stream",
     "text": [
      "11\n"
     ]
    }
   ],
   "source": [
    "3 - _8"
   ]
  },
  {
   "cell_type": "markdown",
   "metadata": {},
   "source": [
    "`_` is unary negative symbol."
   ]
  },
  {
   "cell_type": "markdown",
   "metadata": {},
   "source": [
    "## Assignment"
   ]
  },
  {
   "cell_type": "code",
   "execution_count": 9,
   "metadata": {},
   "outputs": [
    {
     "name": "stdout",
     "output_type": "stream",
     "text": [
      "4\n"
     ]
    }
   ],
   "source": [
    "b =. 4\n",
    "b"
   ]
  },
  {
   "cell_type": "markdown",
   "metadata": {},
   "source": [
    "`=.` is assignment."
   ]
  },
  {
   "cell_type": "code",
   "execution_count": 10,
   "metadata": {},
   "outputs": [
    {
     "name": "stdout",
     "output_type": "stream",
     "text": [
      "_0.3 1.6\n"
     ]
    }
   ],
   "source": [
    "value1 =. _0.3 NB. decimals <1 must have a leading 0\n",
    "value2 =. 1.6\n",
    "\n",
    "value1, value2"
   ]
  },
  {
   "cell_type": "markdown",
   "metadata": {},
   "source": [
    "## Vectors"
   ]
  },
  {
   "cell_type": "code",
   "execution_count": 11,
   "metadata": {},
   "outputs": [
    {
     "name": "stdout",
     "output_type": "stream",
     "text": [
      "3 1 4 0.5 _2 341 0.34\n"
     ]
    }
   ],
   "source": [
    "c =. 3 1 4 0.5 _2 341 0.34\n",
    "d =. 4 0.4 432 _123 90 _23 1.9234\n",
    "\n",
    "c"
   ]
  },
  {
   "cell_type": "code",
   "execution_count": 12,
   "metadata": {},
   "outputs": [
    {
     "name": "stdout",
     "output_type": "stream",
     "text": [
      "4 0.4 432 _123 90 _23 1.9234\n"
     ]
    }
   ],
   "source": [
    "d"
   ]
  },
  {
   "cell_type": "markdown",
   "metadata": {},
   "source": [
    "Vectors are list of numbers. Unlike many other languages, no characters like `(`, `[`, `{` are needed."
   ]
  },
  {
   "cell_type": "code",
   "execution_count": 13,
   "metadata": {},
   "outputs": [
    {
     "name": "stdout",
     "output_type": "stream",
     "text": [
      "7 1.4 436 _122.5 88 318 2.2634\n"
     ]
    }
   ],
   "source": [
    "c + d"
   ]
  },
  {
   "cell_type": "code",
   "execution_count": 14,
   "metadata": {},
   "outputs": [
    {
     "name": "stdout",
     "output_type": "stream",
     "text": [
      "12 0.4 1728 _61.5 _180 _7843 0.653956\n"
     ]
    }
   ],
   "source": [
    "c * d"
   ]
  },
  {
   "cell_type": "code",
   "execution_count": 15,
   "metadata": {},
   "outputs": [
    {
     "name": "stdout",
     "output_type": "stream",
     "text": [
      "0.75 2.5 0.00925926 _0.00406504 _0.0222222 _14.8261 0.17677\n"
     ]
    }
   ],
   "source": [
    "c % d"
   ]
  },
  {
   "cell_type": "code",
   "execution_count": 16,
   "metadata": {},
   "outputs": [
    {
     "name": "stdout",
     "output_type": "stream",
     "text": [
      "_\n"
     ]
    }
   ],
   "source": [
    "3 % 0"
   ]
  },
  {
   "cell_type": "markdown",
   "metadata": {},
   "source": [
    "Division by $0$ results in infinity in J. Infinity is represented by `_` (underbar)."
   ]
  },
  {
   "cell_type": "code",
   "execution_count": 17,
   "metadata": {},
   "outputs": [
    {
     "name": "stdout",
     "output_type": "stream",
     "text": [
      "|length error\n",
      "|   c    +1 2 9\n"
     ]
    }
   ],
   "source": [
    "c + 1 2 9"
   ]
  },
  {
   "cell_type": "markdown",
   "metadata": {},
   "source": [
    "Vectors of different lengths cannot be added. There would be an error."
   ]
  },
  {
   "cell_type": "markdown",
   "metadata": {},
   "source": [
    "## Complex Numbers"
   ]
  },
  {
   "cell_type": "code",
   "execution_count": 18,
   "metadata": {},
   "outputs": [
    {
     "name": "stdout",
     "output_type": "stream",
     "text": [
      "1j2\n"
     ]
    }
   ],
   "source": [
    "1j2"
   ]
  },
  {
   "cell_type": "markdown",
   "metadata": {},
   "source": [
    "`1j2` denotes the complex number $1 + 2i$. The complex number $a + ij$ is denoted by `ajb`."
   ]
  },
  {
   "cell_type": "code",
   "execution_count": 19,
   "metadata": {},
   "outputs": [
    {
     "name": "stdout",
     "output_type": "stream",
     "text": [
      "1.27202j0.786151\n"
     ]
    }
   ],
   "source": [
    "%: 1j2"
   ]
  },
  {
   "cell_type": "markdown",
   "metadata": {},
   "source": [
    "Square root of a complex number is allowed. The *digraph* `%:` computes the square root."
   ]
  },
  {
   "cell_type": "code",
   "execution_count": 20,
   "metadata": {},
   "outputs": [
    {
     "name": "stdout",
     "output_type": "stream",
     "text": [
      "2\n"
     ]
    }
   ],
   "source": [
    "%: 4 NB. square-root of a real number"
   ]
  },
  {
   "cell_type": "code",
   "execution_count": 21,
   "metadata": {},
   "outputs": [
    {
     "name": "stdout",
     "output_type": "stream",
     "text": [
      "0j4.73286 0j0.632456 0j1.51658 0j2.23607\n"
     ]
    }
   ],
   "source": [
    "%: _22.4 _0.4 _2.3 _5 "
   ]
  },
  {
   "cell_type": "markdown",
   "metadata": {},
   "source": [
    "Square root of negative number results in complex number."
   ]
  },
  {
   "cell_type": "markdown",
   "metadata": {},
   "source": [
    "An operator in **J** acts on a vector, each element of a vector, if unary."
   ]
  },
  {
   "cell_type": "code",
   "execution_count": 22,
   "metadata": {},
   "outputs": [
    {
     "name": "stdout",
     "output_type": "stream",
     "text": [
      "11 21 31\n"
     ]
    }
   ],
   "source": [
    "1 + 10 20 30 NB. adds one to eacch element"
   ]
  },
  {
   "cell_type": "code",
   "execution_count": 23,
   "metadata": {},
   "outputs": [
    {
     "name": "stdout",
     "output_type": "stream",
     "text": [
      "1.09861 0 1.38629 _0.693147 0.693147j3.14159 5.83188 _1.07881\n"
     ]
    }
   ],
   "source": [
    "^. c"
   ]
  },
  {
   "cell_type": "code",
   "execution_count": 24,
   "metadata": {},
   "outputs": [
    {
     "name": "stdout",
     "output_type": "stream",
     "text": [
      "0.477121 0 0.60206 _0.30103 0.30103j1.36438 2.53275 _0.468521\n"
     ]
    }
   ],
   "source": [
    "10^. c"
   ]
  },
  {
   "cell_type": "code",
   "execution_count": 25,
   "metadata": {},
   "outputs": [
    {
     "name": "stdout",
     "output_type": "stream",
     "text": [
      "1.58496 0 2 _1 1j4.53236 8.41363 _1.55639\n"
     ]
    }
   ],
   "source": [
    "2^. c"
   ]
  },
  {
   "cell_type": "markdown",
   "metadata": {},
   "source": [
    "`^.` is $e$ base logarithm, `n^.` is $n$-base logarithm."
   ]
  },
  {
   "cell_type": "code",
   "execution_count": 26,
   "metadata": {},
   "outputs": [
    {
     "name": "stdout",
     "output_type": "stream",
     "text": [
      "7\n"
     ]
    }
   ],
   "source": [
    "# c NB. length of a vector"
   ]
  },
  {
   "cell_type": "code",
   "execution_count": 27,
   "metadata": {},
   "outputs": [
    {
     "name": "stdout",
     "output_type": "stream",
     "text": [
      "0.5\n"
     ]
    }
   ],
   "source": [
    "3{c"
   ]
  },
  {
   "cell_type": "markdown",
   "metadata": {},
   "source": [
    "`n{l` is the n-th element of l. n is zero-indexed."
   ]
  },
  {
   "cell_type": "code",
   "execution_count": 28,
   "metadata": {},
   "outputs": [
    {
     "name": "stdout",
     "output_type": "stream",
     "text": [
      "3 1 341\n"
     ]
    }
   ],
   "source": [
    "0 1 5 { c NB. selecting only 0th, 1st, 5th elements of c"
   ]
  },
  {
   "cell_type": "markdown",
   "metadata": {},
   "source": [
    "## Non-numeric data"
   ]
  },
  {
   "cell_type": "code",
   "execution_count": 29,
   "metadata": {},
   "outputs": [
    {
     "name": "stdout",
     "output_type": "stream",
     "text": [
      "J is useful.\n"
     ]
    }
   ],
   "source": [
    "cv =. 'J is useful.'\n",
    "cv"
   ]
  },
  {
   "cell_type": "code",
   "execution_count": 30,
   "metadata": {},
   "outputs": [
    {
     "name": "stdout",
     "output_type": "stream",
     "text": [
      "12\n"
     ]
    }
   ],
   "source": [
    "# cv NB. length of the string"
   ]
  },
  {
   "cell_type": "code",
   "execution_count": 31,
   "metadata": {},
   "outputs": [
    {
     "name": "stdout",
     "output_type": "stream",
     "text": [
      "Jellies\n"
     ]
    }
   ],
   "source": [
    "0 7 10 10 2 7 3 { cv  NB. selective repeating selection from list"
   ]
  },
  {
   "cell_type": "code",
   "execution_count": 32,
   "metadata": {},
   "outputs": [
    {
     "name": "stdout",
     "output_type": "stream",
     "text": [
      "5\n"
     ]
    }
   ],
   "source": [
    "# '_3.89'"
   ]
  },
  {
   "cell_type": "code",
   "execution_count": 33,
   "metadata": {},
   "outputs": [
    {
     "name": "stdout",
     "output_type": "stream",
     "text": [
      "1\n"
     ]
    }
   ],
   "source": [
    "# _3.89"
   ]
  },
  {
   "cell_type": "markdown",
   "metadata": {},
   "source": [
    "In the last code, $-3.89$ is a number, hence with length 1. In the example before that, it is a string of characters with length 5."
   ]
  },
  {
   "cell_type": "markdown",
   "metadata": {},
   "source": [
    "## Monadic and Dyadic Forms of Verbs"
   ]
  },
  {
   "cell_type": "markdown",
   "metadata": {},
   "source": [
    "A verb with left and right arguments on both sides is a *dyadic verb*, and on only right side is *monadic verb*. (The root 'monad' should not be confused with monads in functional languages such as Haskell.)\n",
    "\n",
    "Some verbs have both forms."
   ]
  },
  {
   "cell_type": "code",
   "execution_count": 34,
   "metadata": {},
   "outputs": [
    {
     "name": "stdout",
     "output_type": "stream",
     "text": [
      "7\n"
     ]
    }
   ],
   "source": [
    "# c NB. monadic form of # which is the length of a vector"
   ]
  },
  {
   "cell_type": "code",
   "execution_count": 35,
   "metadata": {},
   "outputs": [
    {
     "name": "stdout",
     "output_type": "stream",
     "text": [
      "3 3 3 1 1 1 4 4 4 0.5 0.5 0.5 _2 _2 _2 341 341 341 0.34 0.34 0.34\n"
     ]
    }
   ],
   "source": [
    "NB. name of # - 'copy'\n",
    "3 # c NB. dyadic form of # which is number of copies of each element in the right"
   ]
  },
  {
   "cell_type": "code",
   "execution_count": 36,
   "metadata": {},
   "outputs": [
    {
     "name": "stdout",
     "output_type": "stream",
     "text": [
      "4 4 4 4 4\n"
     ]
    }
   ],
   "source": [
    "5 # 4"
   ]
  },
  {
   "cell_type": "code",
   "execution_count": 37,
   "metadata": {},
   "outputs": [
    {
     "name": "stdout",
     "output_type": "stream",
     "text": [
      " 3   1    4 0.5   _2 341 0.34  3   1\n",
      " 4 0.5   _2 341 0.34   3    1  4 0.5\n",
      "_2 341 0.34   3    1   4  0.5 _2 341\n"
     ]
    }
   ],
   "source": [
    "matrix =. 3 9 $ c\n",
    "matrix"
   ]
  },
  {
   "cell_type": "code",
   "execution_count": 38,
   "metadata": {},
   "outputs": [
    {
     "name": "stdout",
     "output_type": "stream",
     "text": [
      "3 1 4 0.5 _2 341 0.34\n"
     ]
    }
   ],
   "source": [
    "c"
   ]
  },
  {
   "cell_type": "markdown",
   "metadata": {},
   "source": [
    "The dyadic form of `$` verb is known as *reshape* and it creates what looks like a matrix of any shape given by the left argument of the operator. Any shape is satisfied by wrapping around data- copying over and over."
   ]
  },
  {
   "cell_type": "code",
   "execution_count": 39,
   "metadata": {},
   "outputs": [
    {
     "name": "stdout",
     "output_type": "stream",
     "text": [
      "   3    1    4  0.5   _2\n",
      " 341 0.34    3    1    4\n",
      " 0.5   _2  341 0.34    3\n",
      "   1    4  0.5   _2  341\n",
      "\n",
      "0.34    3    1    4  0.5\n",
      "  _2  341 0.34    3    1\n",
      "   4  0.5   _2  341 0.34\n",
      "   3    1    4  0.5   _2\n",
      "\n",
      " 341 0.34    3    1    4\n",
      " 0.5   _2  341 0.34    3\n",
      "   1    4  0.5   _2  341\n",
      "0.34    3    1    4  0.5\n"
     ]
    }
   ],
   "source": [
    "array_3d =. 3 4 5 $ c\n",
    "array_3d"
   ]
  },
  {
   "cell_type": "markdown",
   "metadata": {},
   "source": [
    "Even 3-dimensional shapes are satisfied."
   ]
  },
  {
   "cell_type": "code",
   "execution_count": 40,
   "metadata": {},
   "outputs": [
    {
     "name": "stdout",
     "output_type": "stream",
     "text": [
      "3 9\n"
     ]
    }
   ],
   "source": [
    "$ matrix NB. monadic `$` is known as 'shape of'."
   ]
  },
  {
   "cell_type": "code",
   "execution_count": 41,
   "metadata": {},
   "outputs": [
    {
     "name": "stdout",
     "output_type": "stream",
     "text": [
      "3\n"
     ]
    }
   ],
   "source": [
    "# matrix"
   ]
  },
  {
   "cell_type": "code",
   "execution_count": 42,
   "metadata": {},
   "outputs": [
    {
     "name": "stdout",
     "output_type": "stream",
     "text": [
      "3 4 5\n"
     ]
    }
   ],
   "source": [
    "$ array_3d"
   ]
  },
  {
   "cell_type": "code",
   "execution_count": 43,
   "metadata": {},
   "outputs": [
    {
     "name": "stdout",
     "output_type": "stream",
     "text": [
      "3\n"
     ]
    }
   ],
   "source": [
    "# array_3d"
   ]
  },
  {
   "cell_type": "code",
   "execution_count": 44,
   "metadata": {},
   "outputs": [
    {
     "name": "stdout",
     "output_type": "stream",
     "text": [
      "   53    51    54  50.5    48\n",
      "  391 50.34    53    51    54\n",
      " 50.5    48   391 50.34    53\n",
      "   51    54  50.5    48   391\n",
      "\n",
      "50.34    53    51    54  50.5\n",
      "   48   391 50.34    53    51\n",
      "   54  50.5    48   391 50.34\n",
      "   53    51    54  50.5    48\n",
      "\n",
      "  391 50.34    53    51    54\n",
      " 50.5    48   391 50.34    53\n",
      "   51    54  50.5    48   391\n",
      "50.34    53    51    54  50.5\n"
     ]
    }
   ],
   "source": [
    "array_3d + 50"
   ]
  },
  {
   "cell_type": "code",
   "execution_count": 45,
   "metadata": {},
   "outputs": [
    {
     "name": "stdout",
     "output_type": "stream",
     "text": [
      "       27         1        64     0.125        _8\n",
      "3.96518e7  0.039304        27         1        64\n",
      "    0.125        _8 3.96518e7  0.039304        27\n",
      "        1        64     0.125        _8 3.96518e7\n",
      "\n",
      " 0.039304        27         1        64     0.125\n",
      "       _8 3.96518e7  0.039304        27         1\n",
      "       64     0.125        _8 3.96518e7  0.039304\n",
      "       27         1        64     0.125        _8\n",
      "\n",
      "3.96518e7  0.039304        27         1        64\n",
      "    0.125        _8 3.96518e7  0.039304        27\n",
      "        1        64     0.125        _8 3.96518e7\n",
      " 0.039304        27         1        64     0.125\n"
     ]
    }
   ],
   "source": [
    "array_3d ^ 3"
   ]
  },
  {
   "cell_type": "markdown",
   "metadata": {},
   "source": [
    "Arithmetic verbs have monadic *and* dyadic forms."
   ]
  },
  {
   "cell_type": "code",
   "execution_count": 46,
   "metadata": {},
   "outputs": [
    {
     "name": "stdout",
     "output_type": "stream",
     "text": [
      "4\n"
     ]
    }
   ],
   "source": [
    "+b"
   ]
  },
  {
   "cell_type": "code",
   "execution_count": 47,
   "metadata": {},
   "outputs": [
    {
     "name": "stdout",
     "output_type": "stream",
     "text": [
      "_4\n"
     ]
    }
   ],
   "source": [
    "-b"
   ]
  },
  {
   "cell_type": "code",
   "execution_count": 49,
   "metadata": {},
   "outputs": [
    {
     "name": "stdout",
     "output_type": "stream",
     "text": [
      "7\n"
     ]
    }
   ],
   "source": [
    "+z =. 4 + 6 % 2 NB. displays and calculates together"
   ]
  },
  {
   "cell_type": "markdown",
   "metadata": {},
   "source": [
    "Monadic `*` is the Signum function.\n",
    "\n",
    "$$f(x) = \\begin{cases}\n",
    "0 & \\text{if } x = 0 \\\\\n",
    "-1 & \\text{if } x < 0 \\\\\n",
    "1 & \\text{if } x > 0\n",
    "\\end{cases}$$"
   ]
  },
  {
   "cell_type": "code",
   "execution_count": 50,
   "metadata": {},
   "outputs": [
    {
     "name": "stdout",
     "output_type": "stream",
     "text": [
      "1\n"
     ]
    }
   ],
   "source": [
    "* 4"
   ]
  },
  {
   "cell_type": "code",
   "execution_count": 51,
   "metadata": {},
   "outputs": [
    {
     "name": "stdout",
     "output_type": "stream",
     "text": [
      "_1\n"
     ]
    }
   ],
   "source": [
    "* _2"
   ]
  },
  {
   "cell_type": "markdown",
   "metadata": {},
   "source": [
    "Monadic `%` is the reciprocal."
   ]
  },
  {
   "cell_type": "code",
   "execution_count": 52,
   "metadata": {},
   "outputs": [
    {
     "name": "stdout",
     "output_type": "stream",
     "text": [
      "0.04 0.1 0.01 0.02\n"
     ]
    }
   ],
   "source": [
    "% 25 10 100 50"
   ]
  },
  {
   "cell_type": "markdown",
   "metadata": {},
   "source": [
    "So far, we can see dyadic and monadic forms of verbs, and sometimes also a digraph with a `.`."
   ]
  },
  {
   "cell_type": "code",
   "execution_count": 58,
   "metadata": {},
   "outputs": [
    {
     "name": "stdout",
     "output_type": "stream",
     "text": [
      "0\n"
     ]
    }
   ],
   "source": [
    "4 > 5 NB. has binary output in dyadic form"
   ]
  },
  {
   "cell_type": "code",
   "execution_count": 61,
   "metadata": {},
   "outputs": [
    {
     "name": "stdout",
     "output_type": "stream",
     "text": [
      "6\n"
     ]
    }
   ],
   "source": [
    ">. 5.6 NB. round up, where <. would be round down"
   ]
  },
  {
   "cell_type": "code",
   "execution_count": 63,
   "metadata": {},
   "outputs": [
    {
     "name": "stdout",
     "output_type": "stream",
     "text": [
      "0 0 0 1\n"
     ]
    }
   ],
   "source": [
    "5 7 9 11 < 1 2 3 40 NB. element-wise less than"
   ]
  },
  {
   "cell_type": "code",
   "execution_count": 65,
   "metadata": {},
   "outputs": [
    {
     "name": "stdout",
     "output_type": "stream",
     "text": [
      "5 7 9 40\n"
     ]
    }
   ],
   "source": [
    "5 7 9 11 >. 1 2 3 40 NB. element-wise maxima, same can be done with minima"
   ]
  },
  {
   "cell_type": "code",
   "execution_count": 70,
   "metadata": {},
   "outputs": [
    {
     "name": "stdout",
     "output_type": "stream",
     "text": [
      "0 3 6 1 8 0 0\n"
     ]
    }
   ],
   "source": [
    "0 >. _1 3 6 1 8 _2 _4.5 NB. negative items replacement"
   ]
  },
  {
   "cell_type": "code",
   "execution_count": null,
   "metadata": {
    "collapsed": true
   },
   "outputs": [],
   "source": []
  }
 ],
 "metadata": {
  "kernelspec": {
   "display_name": "J",
   "language": "J",
   "name": "jkernel"
  },
  "language_info": {
   "file_extension": "ijs",
   "mimetype": "text/x-J",
   "name": "J"
  }
 },
 "nbformat": 4,
 "nbformat_minor": 2
}
