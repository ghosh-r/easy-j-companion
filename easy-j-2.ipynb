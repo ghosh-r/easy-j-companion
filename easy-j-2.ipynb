{
 "cells": [
  {
   "cell_type": "markdown",
   "metadata": {},
   "source": [
    "# Basic Arithmetic"
   ]
  },
  {
   "cell_type": "markdown",
   "metadata": {},
   "source": [
    "##### Expressing 1'4.5\" as a percentage of 2, 2.5, 3, 6, 10 feet."
   ]
  },
  {
   "cell_type": "code",
   "execution_count": 4,
   "metadata": {},
   "outputs": [
    {
     "name": "stdout",
     "output_type": "stream",
     "text": [
      "69 55 46 23 14\n"
     ]
    }
   ],
   "source": [
    ">. 100 * (1 + 4.5 % 12) % 2 2.5 3 6 10"
   ]
  },
  {
   "cell_type": "markdown",
   "metadata": {},
   "source": [
    "`4.5 % 12` converts 4.5 inches to feet, ready to be added to 1. (Curses of the imperial system.)\n",
    "\n",
    "Multiplying with $100$ for clean percentage values.\n",
    "\n",
    "`>.` for rounding up to nearest integer value."
   ]
  },
  {
   "cell_type": "code",
   "execution_count": 5,
   "metadata": {},
   "outputs": [
    {
     "name": "stdout",
     "output_type": "stream",
     "text": [
      "\n"
     ]
    }
   ],
   "source": [
    "(9!:11) 16 NB. set precision to 16"
   ]
  },
  {
   "cell_type": "markdown",
   "metadata": {},
   "source": [
    "#### The compound interest of \\$12 from 1650 to 2000 for different interest rates 3%, 4%, 5%, 10% "
   ]
  },
  {
   "cell_type": "code",
   "execution_count": 6,
   "metadata": {},
   "outputs": [
    {
     "name": "stdout",
     "output_type": "stream",
     "text": [
      "373430 10986263 312921872 3686557834057256\n"
     ]
    }
   ],
   "source": [
    "<. 12 * (1 + 0.03 0.04 0.05 0.1) ^ (2000 - 1650)"
   ]
  },
  {
   "cell_type": "markdown",
   "metadata": {},
   "source": [
    "##### Height and velocity of a body in free-fall after 1, 2, 4, 8, 16 seconds."
   ]
  },
  {
   "cell_type": "code",
   "execution_count": 8,
   "metadata": {},
   "outputs": [
    {
     "name": "stdout",
     "output_type": "stream",
     "text": [
      "\n"
     ]
    }
   ],
   "source": [
    "(9!:11) 6"
   ]
  },
  {
   "cell_type": "code",
   "execution_count": 9,
   "metadata": {},
   "outputs": [
    {
     "name": "stdout",
     "output_type": "stream",
     "text": [
      "490.5 1962 7848 31392 125568\n"
     ]
    }
   ],
   "source": [
    "+ht =. 0.5 * 981 * 1 2 4 8 16 ^ 2"
   ]
  },
  {
   "cell_type": "code",
   "execution_count": 10,
   "metadata": {},
   "outputs": [
    {
     "name": "stdout",
     "output_type": "stream",
     "text": [
      "981 1962 3924 7848 15696\n"
     ]
    }
   ],
   "source": [
    "+vel =. %: 2 * 981 * ht"
   ]
  },
  {
   "cell_type": "markdown",
   "metadata": {},
   "source": [
    "`%:` is square-root."
   ]
  },
  {
   "cell_type": "code",
   "execution_count": null,
   "metadata": {
    "collapsed": true
   },
   "outputs": [],
   "source": []
  }
 ],
 "metadata": {
  "kernelspec": {
   "display_name": "J",
   "language": "J",
   "name": "jkernel"
  },
  "language_info": {
   "file_extension": "ijs",
   "mimetype": "text/x-J",
   "name": "J"
  }
 },
 "nbformat": 4,
 "nbformat_minor": 2
}
